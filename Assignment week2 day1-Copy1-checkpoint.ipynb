{
 "cells": [
  {
   "cell_type": "raw",
   "metadata": {},
   "source": [
    "Write a program that accepts a comma-separated sequence of words as input and prints the words in a\n",
    "comma-separated sequence after sorting them alphabetically.\n"
   ]
  },
  {
   "cell_type": "code",
   "execution_count": 8,
   "metadata": {},
   "outputs": [
    {
     "name": "stdout",
     "output_type": "stream",
     "text": [
      "bag,hello,out,world,"
     ]
    }
   ],
   "source": [
    "list =[\"out\",\"hello\",\"bag\",\"world\"]\n",
    "list.sort()\n",
    "for i in list:\n",
    "    print(i,end=\",\")"
   ]
  },
  {
   "cell_type": "raw",
   "metadata": {},
   "source": [
    "Create your own Jupyter Notebook for Sets"
   ]
  },
  {
   "cell_type": "code",
   "execution_count": 9,
   "metadata": {},
   "outputs": [
    {
     "name": "stdout",
     "output_type": "stream",
     "text": [
      "{'apple', 'cherry', 'banana'}\n"
     ]
    }
   ],
   "source": [
    "thisset = {\"apple\", \"banana\", \"cherry\"}\n",
    "print(thisset)\n"
   ]
  },
  {
   "cell_type": "raw",
   "metadata": {},
   "source": [
    "Given a list of n-1 numbers ranging from 1 to n, your task is to find the missing number. There are no\n",
    "duplicates."
   ]
  },
  {
   "cell_type": "code",
   "execution_count": 19,
   "metadata": {},
   "outputs": [
    {
     "name": "stdout",
     "output_type": "stream",
     "text": [
      "4.0\n"
     ]
    }
   ],
   "source": [
    "def getMissingNo(A):\n",
    "    n = len(A)\n",
    "    total = (n + 1)*(n + 2)/2\n",
    "    sum_of_A = sum(A)\n",
    "    return total - sum_of_A\n",
    "\n",
    "A = [1, 2, 3, 5, 6, 7]\n",
    "miss = getMissingNo(A)\n",
    "print(miss)"
   ]
  },
  {
   "cell_type": "raw",
   "metadata": {},
   "source": [
    "With a given list L, write a program to print this list L after removing all duplicate values with original order\n",
    "reserved."
   ]
  },
  {
   "cell_type": "code",
   "execution_count": 21,
   "metadata": {},
   "outputs": [
    {
     "name": "stdout",
     "output_type": "stream",
     "text": [
      "[2, 4, 10, 20, 5]\n"
     ]
    }
   ],
   "source": [
    "def Remove(duplicate): \n",
    "    final_list = [] \n",
    "    for num in duplicate: \n",
    "        if num not in final_list: \n",
    "            final_list.append(num) \n",
    "    return final_list  \n",
    "duplicate = [2, 4, 10, 20, 5, 2, 20, 4] \n",
    "print(Remove(duplicate)) "
   ]
  },
  {
   "cell_type": "code",
   "execution_count": null,
   "metadata": {},
   "outputs": [],
   "source": [
    "Assuming that we have some email addresses in the \"username@companyname.com\" format, please\n",
    "write a program to print the company name of a given email address. Both user names and company\n",
    "names are composed of letters only\n"
   ]
  },
  {
   "cell_type": "code",
   "execution_count": 44,
   "metadata": {},
   "outputs": [
    {
     "name": "stdout",
     "output_type": "stream",
     "text": [
      "s@gmail.com\n",
      "gmail"
     ]
    }
   ],
   "source": [
    "n =input()\n",
    "b=n.split(\"@\")\n",
    "d=b[1]\n",
    "e=d.split(\".\")\n",
    "print(e[0],end=\"\")"
   ]
  },
  {
   "cell_type": "code",
   "execution_count": null,
   "metadata": {},
   "outputs": [],
   "source": []
  },
  {
   "cell_type": "code",
   "execution_count": null,
   "metadata": {},
   "outputs": [],
   "source": []
  }
 ],
 "metadata": {
  "kernelspec": {
   "display_name": "Python 3",
   "language": "python",
   "name": "python3"
  },
  "language_info": {
   "codemirror_mode": {
    "name": "ipython",
    "version": 3
   },
   "file_extension": ".py",
   "mimetype": "text/x-python",
   "name": "python",
   "nbconvert_exporter": "python",
   "pygments_lexer": "ipython3",
   "version": "3.8.3"
  }
 },
 "nbformat": 4,
 "nbformat_minor": 4
}
